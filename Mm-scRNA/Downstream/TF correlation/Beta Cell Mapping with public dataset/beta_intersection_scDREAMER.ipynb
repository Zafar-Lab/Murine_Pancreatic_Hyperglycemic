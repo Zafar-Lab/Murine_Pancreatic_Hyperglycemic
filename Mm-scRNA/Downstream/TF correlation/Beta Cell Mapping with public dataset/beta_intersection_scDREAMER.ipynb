{
 "cells": [
  {
   "cell_type": "code",
   "execution_count": 1,
   "id": "152d3eb2-84ff-44ea-a349-fbc3c8226430",
   "metadata": {},
   "outputs": [
    {
     "name": "stderr",
     "output_type": "stream",
     "text": [
      "2025-02-12 19:50:59.306837: E external/local_xla/xla/stream_executor/cuda/cuda_fft.cc:477] Unable to register cuFFT factory: Attempting to register factory for plugin cuFFT when one has already been registered\n",
      "WARNING: All log messages before absl::InitializeLog() is called are written to STDERR\n",
      "E0000 00:00:1739370059.322912 3433539 cuda_dnn.cc:8310] Unable to register cuDNN factory: Attempting to register factory for plugin cuDNN when one has already been registered\n",
      "E0000 00:00:1739370059.327769 3433539 cuda_blas.cc:1418] Unable to register cuBLAS factory: Attempting to register factory for plugin cuBLAS when one has already been registered\n",
      "2025-02-12 19:50:59.346675: I tensorflow/core/platform/cpu_feature_guard.cc:210] This TensorFlow binary is optimized to use available CPU instructions in performance-critical operations.\n",
      "To enable the following instructions: AVX2 AVX512F FMA, in other operations, rebuild TensorFlow with the appropriate compiler flags.\n"
     ]
    },
    {
     "name": "stdout",
     "output_type": "stream",
     "text": [
      "WARNING:tensorflow:From /home/shruti/anaconda3/envs/scanpy_env/lib/python3.10/site-packages/tensorflow/python/compat/v2_compat.py:98: disable_resource_variables (from tensorflow.python.ops.resource_variables_toggle) is deprecated and will be removed in a future version.\n",
      "Instructions for updating:\n",
      "non-resource variables are not supported in the long term\n"
     ]
    }
   ],
   "source": [
    "from scDREAMER import scDREAMER"
   ]
  },
  {
   "cell_type": "code",
   "execution_count": 2,
   "id": "cf77f2da-2310-452f-955d-5e1c6aa441fc",
   "metadata": {},
   "outputs": [],
   "source": [
    "# Please specify the data path for the datasets\n",
    "data_path = \"/home/shruti/Documents/shruti/Islet_project/beta_new/beta_intersection_datasets.h5ad\""
   ]
  },
  {
   "cell_type": "code",
   "execution_count": 3,
   "id": "565f9053-6616-4ce2-8aa4-5b200cb9777c",
   "metadata": {},
   "outputs": [],
   "source": [
    "import warnings\n",
    "warnings.filterwarnings('ignore')\n",
    "import os\n",
    "import random\n",
    "import numpy as np\n",
    "import tensorflow as tf2\n",
    "import tensorflow.compat.v1 as tf\n",
    "tf.disable_v2_behavior()\n",
    "\n",
    "\n",
    "np.random.seed(0)\n",
    "tf.set_random_seed(0)\n",
    "random.seed(0)\n",
    "tf2.random.set_seed(0)\n",
    "tf2.keras.utils.set_random_seed(0)# Specify name of the datset to run"
   ]
  },
  {
   "cell_type": "code",
   "execution_count": 4,
   "id": "8411b210-97b7-49d8-9beb-bf1217427eae",
   "metadata": {},
   "outputs": [],
   "source": [
    "# Specify name of the datset to run\n",
    "name = \"Islet_beta_intersection\"\n",
    "\n",
    "data_path = {\n",
    "\"Islet_beta_intersection\" : data_path,\n",
    "}\n",
    "\n",
    "batch_key_dict = {'Immune_Human' : 'batch',\n",
    "                 'Lung' : 'batch',\n",
    "                 'Pancreas' : 'tech',\n",
    "                 'Human_Mouse' : 'batch',\n",
    "                 'Human_Retina': \"Batch\",\n",
    "                 \"Healthy_Heart\" : \"sampleID\",\n",
    "                 \"Islet_beta_intersection\" : \"CONDITION\"\n",
    "                  }\n",
    "cell_type_key_dict = {'Immune_Human' : 'final_annotation',\n",
    "                 'Lung' : 'cell_type',\n",
    "                 'Pancreas' : 'celltype',\n",
    "                 'Human_Mouse' : \"celltype\",\n",
    "                 \"Human_Retina\":\"Subcluster\",\n",
    "                \"Healthy_Heart\" : \"celltype\",\n",
    "                \"Islet_beta_intersection\" : \"CONDITION\"\n",
    "               }\n",
    "\n",
    "# Leaning rate to use for small data vs large input data\n",
    "learning_rate = {\n",
    "                 'Immune_Human' : {\"lr_ae\" : 0.0002, \"lr_dis\": 0.0007}, # Small Datasets\n",
    "                 'Human_Mouse' : {\"lr_ae\" : 0.0001, \"lr_dis\": 0.00001},\n",
    "                 'Islet_beta_intersection' : {\"lr_ae\" : 0.0001, \"lr_dis\": 0.00001}} # Big Datasets >= 0.5 million cells"
   ]
  },
  {
   "cell_type": "code",
   "execution_count": null,
   "id": "2725399f-8e87-49c5-98fb-1802b8b68d79",
   "metadata": {
    "scrolled": true
   },
   "outputs": [
    {
     "name": "stderr",
     "output_type": "stream",
     "text": [
      "W0000 00:00:1739370144.508608 3433539 gpu_device.cc:2344] Cannot dlopen some GPU libraries. Please make sure the missing libraries mentioned above are installed properly if you would like to use GPU. Follow the guide at https://www.tensorflow.org/install/gpu for how to download and setup the required libraries for your platform.\n",
      "Skipping registering GPU devices...\n"
     ]
    },
    {
     "name": "stdout",
     "output_type": "stream",
     "text": [
      "Reading data\n",
      "encoder input shape  Tensor(\"concat:0\", shape=(?, 2005), dtype=float32)\n",
      "WARNING:tensorflow:From /home/shruti/anaconda3/envs/scanpy_env/lib/python3.10/site-packages/tensorflow/python/util/dispatch.py:1260: calling dropout (from tensorflow.python.ops.nn_ops) with keep_prob is deprecated and will be removed in a future version.\n",
      "Instructions for updating:\n",
      "Please use `rate` instead of `keep_prob`. Rate should be set to `rate = 1 - keep_prob`.\n",
      "WARNING:tensorflow:From /home/shruti/anaconda3/envs/scanpy_env/lib/python3.10/site-packages/tensorflow/python/util/dispatch.py:1260: to_float (from tensorflow.python.ops.math_ops) is deprecated and will be removed in a future version.\n",
      "Instructions for updating:\n",
      "Use `tf.cast` instead.\n",
      "decoder input shape  Tensor(\"concat_2:0\", shape=(?, 15), dtype=float32)\n",
      "KL gaussian z Tensor(\"mul_10:0\", shape=(?,), dtype=float32)\n",
      "KL gaussian l Tensor(\"mul_9:0\", shape=(?,), dtype=float32)\n",
      "WARNING:tensorflow:From /home/shruti/anaconda3/envs/scanpy_env/lib/python3.10/site-packages/tensorflow/python/util/dispatch.py:1260: softmax_cross_entropy_with_logits (from tensorflow.python.ops.nn_ops) is deprecated and will be removed in a future version.\n",
      "Instructions for updating:\n",
      "\n",
      "Future major versions of TensorFlow will allow gradients to flow\n",
      "into the labels input on backprop by default.\n",
      "\n",
      "See `tf.nn.softmax_cross_entropy_with_logits_v2`.\n",
      "\n",
      "scDREAMER on DataSet /home/shruti/Documents/shruti/Islet_project/beta_new/beta_intersection_datasets.h5ad ... \n"
     ]
    },
    {
     "name": "stderr",
     "output_type": "stream",
     "text": [
      "WARNING: All log messages before absl::InitializeLog() is called are written to STDERR\n",
      "I0000 00:00:1739370183.138426 3433539 mlir_graph_optimization_pass.cc:401] MLIR V1 optimization pass is not enabled\n"
     ]
    },
    {
     "name": "stdout",
     "output_type": "stream",
     "text": [
      "Epoch : [0] ,  a_loss = 415.4437\n",
      "Epoch : [10] ,  a_loss = 312.3371\n",
      "Epoch : [20] ,  a_loss = 293.2434\n",
      "Epoch : [30] ,  a_loss = 284.1378\n",
      "Epoch : [40] ,  a_loss = 279.8621\n",
      "Epoch : [50] ,  a_loss = 277.8313\n",
      "Epoch : [60] ,  a_loss = 276.8421\n",
      "Epoch : [70] ,  a_loss = 276.3742\n",
      "Epoch : [80] ,  a_loss = 276.1462\n",
      "Epoch : [90] ,  a_loss = 276.0448\n",
      "Epoch : [100] ,  a_loss = 275.9834\n",
      "Epoch : [110] ,  a_loss = 275.9627\n",
      "Epoch : [120] ,  a_loss = 275.9076\n",
      "Epoch : [130] ,  a_loss = 275.8625\n",
      "Epoch : [140] ,  a_loss = 275.8432\n",
      "Epoch : [150] ,  a_loss = 275.8428\n",
      "Epoch : [160] ,  a_loss = 275.8087\n",
      "Epoch : [170] ,  a_loss = 275.7848\n",
      "Epoch : [180] ,  a_loss = 275.7834\n",
      "Epoch : [190] ,  a_loss = 275.7807\n",
      "Epoch : [200] ,  a_loss = 275.7625\n",
      "Epoch : [210] ,  a_loss = 275.7010\n",
      "Epoch : [220] ,  a_loss = 275.7664\n",
      "Epoch : [230] ,  a_loss = 275.8211\n",
      "Epoch : [240] ,  a_loss = 275.8073\n",
      "latent_matrix shape (110187, 10)\n",
      "(110187,)\n"
     ]
    }
   ],
   "source": [
    "from scDREAMER import scDREAMER\n",
    "\n",
    "run_config = tf.ConfigProto()\n",
    "\n",
    "run_config.gpu_options.per_process_gpu_memory_fraction = 0.333\n",
    "run_config.gpu_options.allow_growth = True\n",
    "\n",
    "with tf.Session(config = run_config) as sess:\n",
    "\n",
    "    dreamer = scDREAMER(\n",
    "        sess,\n",
    "        epoch = 250,\n",
    "        dataset_name = data_path[name],\n",
    "        batch = batch_key_dict[name],\n",
    "        cell_type = cell_type_key_dict[name],\n",
    "        name = name,\n",
    "        lr_ae = learning_rate[name]['lr_ae'],\n",
    "        lr_dis = learning_rate[name]['lr_dis']\n",
    "        )\n",
    "\n",
    "    dreamer.train_cluster()"
   ]
  },
  {
   "cell_type": "code",
   "execution_count": null,
   "id": "7bf516e4-a28b-44e7-8b77-b1883eafa853",
   "metadata": {},
   "outputs": [],
   "source": []
  }
 ],
 "metadata": {
  "kernelspec": {
   "display_name": "Python 3 (ipykernel)",
   "language": "python",
   "name": "python3"
  },
  "language_info": {
   "codemirror_mode": {
    "name": "ipython",
    "version": 3
   },
   "file_extension": ".py",
   "mimetype": "text/x-python",
   "name": "python",
   "nbconvert_exporter": "python",
   "pygments_lexer": "ipython3",
   "version": "3.10.16"
  }
 },
 "nbformat": 4,
 "nbformat_minor": 5
}
